{
  "nbformat": 4,
  "nbformat_minor": 0,
  "metadata": {
    "colab": {
      "name": "my_first_colab_script.ipynb",
      "provenance": [],
      "authorship_tag": "ABX9TyO3x/V84LtnA2YKH8kAkCIe",
      "include_colab_link": true
    },
    "kernelspec": {
      "name": "python3",
      "display_name": "Python 3"
    }
  },
  "cells": [
    {
      "cell_type": "markdown",
      "metadata": {
        "id": "view-in-github",
        "colab_type": "text"
      },
      "source": [
        "<a href=\"https://colab.research.google.com/github/hoga85/colab_playground/blob/master/my_first_colab_script.ipynb\" target=\"_parent\"><img src=\"https://colab.research.google.com/assets/colab-badge.svg\" alt=\"Open In Colab\"/></a>"
      ]
    },
    {
      "cell_type": "markdown",
      "metadata": {
        "id": "wUkBXuwUiUmX",
        "colab_type": "text"
      },
      "source": [
        "# My first colab scritp. \n",
        "\n",
        "I am not sure how it can do. This seems to be a good experimenting platform?"
      ]
    },
    {
      "cell_type": "code",
      "metadata": {
        "id": "g_UBLEtdh-FR",
        "colab_type": "code",
        "colab": {}
      },
      "source": [
        "\n"
      ],
      "execution_count": null,
      "outputs": []
    }
  ]
}